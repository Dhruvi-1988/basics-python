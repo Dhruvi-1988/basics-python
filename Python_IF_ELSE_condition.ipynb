{
  "nbformat": 4,
  "nbformat_minor": 0,
  "metadata": {
    "colab": {
      "provenance": []
    },
    "kernelspec": {
      "name": "python3",
      "display_name": "Python 3"
    },
    "language_info": {
      "name": "python"
    }
  },
  "cells": [
    {
      "cell_type": "markdown",
      "source": [
        "##  Logical opertors \n",
        "\n",
        "Keywords | Meaning\n",
        "- | - \n",
        "not | unary negation\n",
        "and | conditional AND\n",
        "or | conditional OR"
      ],
      "metadata": {
        "id": "rb4mX99c8sg1"
      }
    },
    {
      "cell_type": "markdown",
      "source": [
        "**CONDITIONAL STATEMENT (IF ELSE)**"
      ],
      "metadata": {
        "id": "8mZ4gDycBmKR"
      }
    },
    {
      "cell_type": "code",
      "source": [
        "Start=True\n",
        "print(Start)\n"
      ],
      "metadata": {
        "colab": {
          "base_uri": "https://localhost:8080/"
        },
        "id": "BgsAm2ro85o_",
        "outputId": "709d7699-3547-4c08-9b91-7025b9c91a23"
      },
      "execution_count": 8,
      "outputs": [
        {
          "output_type": "stream",
          "name": "stdout",
          "text": [
            "True\n"
          ]
        }
      ]
    },
    {
      "cell_type": "code",
      "source": [
        "start=True\n",
        "print(not start)"
      ],
      "metadata": {
        "colab": {
          "base_uri": "https://localhost:8080/"
        },
        "id": "KwQW585k9CyS",
        "outputId": "e44bd4e2-f4f2-4b58-e2cb-9bb6c7423820"
      },
      "execution_count": 10,
      "outputs": [
        {
          "output_type": "stream",
          "name": "stdout",
          "text": [
            "False\n"
          ]
        }
      ]
    },
    {
      "cell_type": "code",
      "source": [
        "class_started=True\n",
        "if class_started:\n",
        "  print(\"Lets concentrate\")\n",
        "else:\n",
        "  print(\"lets revice\")\n",
        "  "
      ],
      "metadata": {
        "colab": {
          "base_uri": "https://localhost:8080/"
        },
        "id": "jhPJ1pl69H2r",
        "outputId": "07a65a41-7f3a-4c9e-e2e8-2dd1f3a98962"
      },
      "execution_count": 18,
      "outputs": [
        {
          "output_type": "stream",
          "name": "stdout",
          "text": [
            "Lets concentrate\n"
          ]
        }
      ]
    },
    {
      "cell_type": "code",
      "source": [
        "class_started=False\n",
        "if class_started:\n",
        "  print(\"Lets concentrate\")\n",
        "else:\n",
        "  print(\"lets revice\")"
      ],
      "metadata": {
        "colab": {
          "base_uri": "https://localhost:8080/"
        },
        "id": "lN9I6RVq9xth",
        "outputId": "ff4345f2-622b-4bb2-db03-5b36cbf3b3de"
      },
      "execution_count": 19,
      "outputs": [
        {
          "output_type": "stream",
          "name": "stdout",
          "text": [
            "lets revice\n"
          ]
        }
      ]
    },
    {
      "cell_type": "code",
      "source": [
        "Raining = True\n",
        "if Raining: # True condition\n",
        "  print(\"lets do work from home\")\n",
        "else:\n",
        "  print(\"lets go to office\")"
      ],
      "metadata": {
        "colab": {
          "base_uri": "https://localhost:8080/"
        },
        "id": "2XuhTS5H-4Sp",
        "outputId": "f1927b64-4637-4645-cdcf-1c649e393998"
      },
      "execution_count": 24,
      "outputs": [
        {
          "output_type": "stream",
          "name": "stdout",
          "text": [
            "lets do work from home\n"
          ]
        }
      ]
    },
    {
      "cell_type": "code",
      "source": [
        "Raining = False\n",
        "if Raining: \n",
        "  print(\"lets do work from home\")\n",
        "else: # false condition\n",
        "  print(\"lets go to office\")"
      ],
      "metadata": {
        "colab": {
          "base_uri": "https://localhost:8080/"
        },
        "id": "ze0JqKTLA1Tp",
        "outputId": "f3099cf7-136f-486a-ab35-7c4eff3386c1"
      },
      "execution_count": 25,
      "outputs": [
        {
          "output_type": "stream",
          "name": "stdout",
          "text": [
            "lets go to office\n"
          ]
        }
      ]
    },
    {
      "cell_type": "code",
      "source": [
        "Raining=True\n",
        "if Raining:\n",
        "  print(\"Since its rining\")\n",
        "  print(\"lets do work from home\")\n",
        "else:\n",
        "  print(\"Since its not raining\")\n",
        "  print(\"lets go to office\")"
      ],
      "metadata": {
        "colab": {
          "base_uri": "https://localhost:8080/"
        },
        "id": "2IrhmdcqA5Up",
        "outputId": "15bd4e1f-a604-4df8-9d74-5deb9006a2a7"
      },
      "execution_count": 26,
      "outputs": [
        {
          "output_type": "stream",
          "name": "stdout",
          "text": [
            "Since its rining\n",
            "lets do work from home\n"
          ]
        }
      ]
    },
    {
      "cell_type": "code",
      "source": [
        "Raining= False\n",
        "if Raining:\n",
        "  print(\"Since its rining\")\n",
        "  print(\"lets do work from home\")\n",
        "else:\n",
        "  print(\"Since its not raining\")\n",
        "  print(\"lets go to office\")"
      ],
      "metadata": {
        "colab": {
          "base_uri": "https://localhost:8080/"
        },
        "id": "oZx6JAW4ELSk",
        "outputId": "b6e9ed69-4fa1-4eca-a8c0-444fe12f5ab6"
      },
      "execution_count": 27,
      "outputs": [
        {
          "output_type": "stream",
          "name": "stdout",
          "text": [
            "Since its not raining\n",
            "lets go to office\n"
          ]
        }
      ]
    },
    {
      "cell_type": "code",
      "source": [],
      "metadata": {
        "id": "kFU2qQA_EbJ4"
      },
      "execution_count": null,
      "outputs": []
    },
    {
      "cell_type": "markdown",
      "source": [
        "#if not condition"
      ],
      "metadata": {
        "id": "JXsKfcbw6q5j"
      }
    },
    {
      "cell_type": "code",
      "source": [
        "raining= True\n",
        "if not raining:\n",
        "  print(\"since its not raining\")\n",
        "  print(\"lets go to office\")\n",
        "else:\n",
        "  print(\"since its raining\")\n",
        "  print(\"lets do work from home\")"
      ],
      "metadata": {
        "colab": {
          "base_uri": "https://localhost:8080/"
        },
        "id": "0TwTqg-76sxe",
        "outputId": "611c60af-0f88-47b8-9e60-21313f0d12af"
      },
      "execution_count": 3,
      "outputs": [
        {
          "output_type": "stream",
          "name": "stdout",
          "text": [
            "since its raining\n",
            "lets do work from home\n"
          ]
        }
      ]
    },
    {
      "cell_type": "code",
      "source": [
        "raining= False\n",
        "if not raining:\n",
        "  print(\"since its not raining\")\n",
        "  print(\"lets go to office\")\n",
        "else:\n",
        "  print(\"since its raining\")\n",
        "  print(\"lets do work from home\")"
      ],
      "metadata": {
        "colab": {
          "base_uri": "https://localhost:8080/"
        },
        "id": "Q4kc-x6C67BG",
        "outputId": "5b59ed64-b27d-41f9-f220-4ae7e1ee649d"
      },
      "execution_count": 5,
      "outputs": [
        {
          "output_type": "stream",
          "name": "stdout",
          "text": [
            "since its not raining\n",
            "lets go to office\n"
          ]
        }
      ]
    },
    {
      "cell_type": "code",
      "source": [
        "class_started=True\n",
        "if not class_started:\n",
        "  print(\"lets revice previous class\")\n",
        "else:\n",
        "  print(\"Lets concentrate\")\n",
        "  "
      ],
      "metadata": {
        "colab": {
          "base_uri": "https://localhost:8080/"
        },
        "id": "WKHF2kr67coU",
        "outputId": "365cc2f9-452a-42e4-e5a5-d646335a4df9"
      },
      "execution_count": 9,
      "outputs": [
        {
          "output_type": "stream",
          "name": "stdout",
          "text": [
            "Lets concentrate\n"
          ]
        }
      ]
    },
    {
      "cell_type": "code",
      "source": [
        "class_started=False\n",
        "if not class_started:\n",
        "  print(\"lets revice previous class\")\n",
        "else:\n",
        "  print(\"Lets concentrate\")"
      ],
      "metadata": {
        "colab": {
          "base_uri": "https://localhost:8080/"
        },
        "id": "0OkSvsTP8IMm",
        "outputId": "7589c85c-b0a4-4c74-cdb3-27bd14329b55"
      },
      "execution_count": 10,
      "outputs": [
        {
          "output_type": "stream",
          "name": "stdout",
          "text": [
            "lets revice previous class\n"
          ]
        }
      ]
    },
    {
      "cell_type": "code",
      "source": [
        "class_started= bool(input(\"Hey frined, is class started?:[0-False/1-True]\"))\n",
        "if class_started:\n",
        "  print(\"lets concentrate\")\n",
        "else:\n",
        "  print(\"lets revice previuos class\")"
      ],
      "metadata": {
        "colab": {
          "base_uri": "https://localhost:8080/"
        },
        "id": "vvV5u7kt8V41",
        "outputId": "e6897418-9a22-437f-88ec-0097e8dad27b"
      },
      "execution_count": 26,
      "outputs": [
        {
          "output_type": "stream",
          "name": "stdout",
          "text": [
            "Hey frined, is class started?:[0-False/1-True]1\n",
            "lets concentrate\n"
          ]
        }
      ]
    },
    {
      "cell_type": "code",
      "source": [
        "class_started=bool(input(\"Hey friend, is class started?:[0-False/1-True]\"))\n",
        "if class_started:\n",
        "  print(\"lets concentrate\")\n",
        "else:\n",
        "  print(\"lets revice previuos class\")"
      ],
      "metadata": {
        "colab": {
          "base_uri": "https://localhost:8080/"
        },
        "id": "J843czB09v4W",
        "outputId": "aabe6658-d730-4e7b-9faf-3a5e11ab0ba0"
      },
      "execution_count": 27,
      "outputs": [
        {
          "output_type": "stream",
          "name": "stdout",
          "text": [
            "Hey friend, is class started?:[0-False/1-True]1\n",
            "lets concentrate\n"
          ]
        }
      ]
    },
    {
      "cell_type": "code",
      "source": [],
      "metadata": {
        "id": "TQTcNmCZ_Kwj"
      },
      "execution_count": 25,
      "outputs": []
    },
    {
      "cell_type": "markdown",
      "source": [
        "and-CONDITION AND"
      ],
      "metadata": {
        "id": "FxlK3MOxBdK8"
      }
    },
    {
      "cell_type": "markdown",
      "source": [
        "vegetable_present,\n",
        "salt_present"
      ],
      "metadata": {
        "id": "GOC0cwirFXp9"
      }
    },
    {
      "cell_type": "code",
      "source": [
        "vegetable_present=False\n",
        "salt_present=False\n",
        "if vegetable_present and salt_present:\n",
        "  print(\"its a good dish\")\n",
        "else:\n",
        "  print(\"its bad dish\")"
      ],
      "metadata": {
        "colab": {
          "base_uri": "https://localhost:8080/"
        },
        "id": "7pI5HrNiBfT7",
        "outputId": "0f5a9b0a-4da0-4e02-ebd6-1df93a14d31f"
      },
      "execution_count": 28,
      "outputs": [
        {
          "output_type": "stream",
          "name": "stdout",
          "text": [
            "its bad dish\n"
          ]
        }
      ]
    },
    {
      "cell_type": "code",
      "source": [
        "vegetable_present=False\n",
        "salt_present=False\n",
        "if vegetable_present and salt_present:\n",
        "  print(\"its a good dish\")\n",
        "else:\n",
        "  print(\"its bad dish\")\n",
        "  print(f\"because vegetable present:{vegetable_present}\")\n",
        "  print(f\"because salt present:{salt_present}\")"
      ],
      "metadata": {
        "colab": {
          "base_uri": "https://localhost:8080/"
        },
        "id": "YrnFV7AiDZBU",
        "outputId": "03c85009-7de6-4c1e-9432-a2a405892358"
      },
      "execution_count": 33,
      "outputs": [
        {
          "output_type": "stream",
          "name": "stdout",
          "text": [
            "its bad dish\n",
            "because vegetable present:False\n",
            "because salt present:False\n"
          ]
        }
      ]
    },
    {
      "cell_type": "code",
      "source": [
        "vegetable_present=True\n",
        "salt_present=False\n",
        "if vegetable_present and salt_present:\n",
        "  print(\"dish is good\")\n",
        "else:\n",
        "  print(\"dish is not good\")\n",
        "  print(f\"because vegetable present:{vegetable_present}\")\n",
        "  print(f\"because salt present:{salt_present}\")"
      ],
      "metadata": {
        "colab": {
          "base_uri": "https://localhost:8080/"
        },
        "id": "xsGRMgwDEPDP",
        "outputId": "fb434e90-fcad-4c33-c0c8-7f8b6cbc797f"
      },
      "execution_count": 34,
      "outputs": [
        {
          "output_type": "stream",
          "name": "stdout",
          "text": [
            "dish is not good\n",
            "because vegetable present:True\n",
            "because salt present:False\n"
          ]
        }
      ]
    },
    {
      "cell_type": "code",
      "source": [
        "vegetable_present=True\n",
        "salt_present=True\n",
        "if vegetable_present and salt_present:\n",
        "  print(\"dish is good\")\n",
        "else:\n",
        "  print(\"dish is not good\")\n",
        "  print(f\"because vegetable present:{vegetable_present}\")\n",
        "  print(f\"because salt present:{salt_present}\")"
      ],
      "metadata": {
        "colab": {
          "base_uri": "https://localhost:8080/"
        },
        "id": "poUp_s19FQ_h",
        "outputId": "79e3dfa1-6e1e-44d0-bc9d-7bd77b266fa7"
      },
      "execution_count": 35,
      "outputs": [
        {
          "output_type": "stream",
          "name": "stdout",
          "text": [
            "dish is good\n"
          ]
        }
      ]
    },
    {
      "cell_type": "code",
      "source": [],
      "metadata": {
        "id": "ZhXeiCisFoNY"
      },
      "execution_count": null,
      "outputs": []
    },
    {
      "cell_type": "markdown",
      "source": [
        "OR condition\n",
        "\n",
        "if I have car or bike, then I can travel 100 km.\n",
        "\n",
        "---\n",
        "      Car Bike 100kmTravel\n",
        "\n",
        "1.   True True True\n",
        "2.   False True False\n",
        "3.   True False False\n",
        "4.   False False False\n",
        "\n",
        "\n"
      ],
      "metadata": {
        "id": "EOpAUhHCGhiH"
      }
    },
    {
      "cell_type": "code",
      "source": [
        "i_own_car=True\n",
        "i_own_Bike=False\n",
        "\n",
        "if i_own_car or i_own_bike:\n",
        "  print(\"I can travel 100km\")\n",
        "else:\n",
        "  print(\"I am stuck\")"
      ],
      "metadata": {
        "colab": {
          "base_uri": "https://localhost:8080/"
        },
        "id": "PC_5AtIpGoLB",
        "outputId": "d4edf95a-2a8d-47e2-c1f7-0517317df524"
      },
      "execution_count": 36,
      "outputs": [
        {
          "output_type": "stream",
          "name": "stdout",
          "text": [
            "I can travel 100km\n"
          ]
        }
      ]
    },
    {
      "cell_type": "code",
      "source": [
        "i_own_car=False\n",
        "i_own_Bike=False\n",
        "if i_own_car or i_own_Bike:\n",
        "  print(\"I can travel\")\n",
        "else:\n",
        "  print(\"I am stcuk\")\n",
        "  print(f\"because I dont have: {i_own_car}\")\n",
        "  print(f\"because I dont have: {i_own_Bike}\")"
      ],
      "metadata": {
        "colab": {
          "base_uri": "https://localhost:8080/"
        },
        "id": "nZmuRz9DMj18",
        "outputId": "407daf8d-4fcd-4fd1-e723-9fc1e901abee"
      },
      "execution_count": 42,
      "outputs": [
        {
          "output_type": "stream",
          "name": "stdout",
          "text": [
            "I am stcuk\n",
            "because I dont have: False\n",
            "because I dont have: False\n"
          ]
        }
      ]
    },
    {
      "cell_type": "markdown",
      "source": [
        "## Conclusion -\n",
        "1.   use and operator when you want all the condition to be true\n",
        "2.   use or operator if anyone of the condition you want to be true\n",
        "\n",
        "\n"
      ],
      "metadata": {
        "id": "fgAwa5BqO4qa"
      }
    },
    {
      "cell_type": "markdown",
      "source": [
        "# example-\n",
        "\n",
        "attendance | assignment | eligible_for_exam\n",
        "- | - | -\n",
        ">=75% | >=70% | True\n",
        "\n",
        "\n"
      ],
      "metadata": {
        "id": "Xdmhio-5PM8n"
      }
    },
    {
      "cell_type": "code",
      "source": [
        "attendance=70\n",
        "assignment=40\n",
        "\n",
        "print(attendance>=75)\n",
        "print(assignment>=70)\n",
        "\n",
        "if attendance >=75 and assignment >=70:\n",
        "    print(\"Student is eligible for final exam\")\n",
        "else:\n",
        "  print(\"student is not eligible\")\n"
      ],
      "metadata": {
        "colab": {
          "base_uri": "https://localhost:8080/"
        },
        "id": "Ae5Yt3dFPUXx",
        "outputId": "2a118234-7f09-4731-8f92-cccfd18c289a"
      },
      "execution_count": 48,
      "outputs": [
        {
          "output_type": "stream",
          "name": "stdout",
          "text": [
            "False\n",
            "False\n",
            "student is not eligible\n"
          ]
        }
      ]
    },
    {
      "cell_type": "code",
      "source": [
        "attendance=90\n",
        "assignment=90\n",
        "\n",
        "print(attendance>=75)\n",
        "print(assignment>=70)\n",
        "\n",
        "if attendance >=75 and assignment >=70:\n",
        "    print(\"Student is eligible for final exam\")\n",
        "else:\n",
        "  print(\"student is not eligible\")"
      ],
      "metadata": {
        "colab": {
          "base_uri": "https://localhost:8080/"
        },
        "id": "d4LfxdiiSKZn",
        "outputId": "95575fd4-39d8-43a2-aa22-f0d5e00455b3"
      },
      "execution_count": 50,
      "outputs": [
        {
          "output_type": "stream",
          "name": "stdout",
          "text": [
            "True\n",
            "True\n",
            "Student is eligible for final exam\n"
          ]
        }
      ]
    },
    {
      "cell_type": "code",
      "source": [
        "attendance=70\n",
        "assignment=90\n",
        "\n",
        "print(f\"attendance criteria met?:{attendance >=75}\")\n",
        "print(f\"assignment criteria met?:{assignment >=70}\")\n",
        "\n",
        "if attendance >=75 and assignment>=70:\n",
        "  print(\"student is eligiblet for final exam\")\n",
        "else:\n",
        "  print(\"student is not eligible\")"
      ],
      "metadata": {
        "colab": {
          "base_uri": "https://localhost:8080/"
        },
        "id": "Kwkr61sBTHAs",
        "outputId": "a9b10cda-69ea-49f6-a71a-b9978e6026e7"
      },
      "execution_count": 53,
      "outputs": [
        {
          "output_type": "stream",
          "name": "stdout",
          "text": [
            "attendance criteria met?:False\n",
            "assignment criteria met?:True\n",
            "student is not eligible\n"
          ]
        }
      ]
    },
    {
      "cell_type": "code",
      "source": [
        "#class_started= bool(input(\"Hey frined, is class started?:[0-False/1-True]\"))\n",
        "\n",
        "attendance = bool(input(\"how much is attendance?:[ ]\"))\n",
        "assignment = bool(input(\"how much is assignment?:[ ]\"))\n",
        "\n",
        "if attendance>=75 and assignment>=80:\n",
        "  print(\"student is eligible\")\n",
        "else:\n",
        "  print(\"student is not eligible\")\n"
      ],
      "metadata": {
        "colab": {
          "base_uri": "https://localhost:8080/"
        },
        "id": "NTDexWIjUM9_",
        "outputId": "ab0ba70a-79ab-459e-b42e-2678c1ca0373"
      },
      "execution_count": 61,
      "outputs": [
        {
          "output_type": "stream",
          "name": "stdout",
          "text": [
            "how much is attendance?:[ ]45\n",
            "how much is assignment?:[ ]50\n",
            "student is not eligible\n"
          ]
        }
      ]
    },
    {
      "cell_type": "markdown",
      "source": [
        "\n",
        "credit_card | debit_card | purchase_book_from_amazon\n",
        "- | - | -\n",
        "True | True | True\n",
        "False | False | True"
      ],
      "metadata": {
        "id": "WCuswylT6yo9"
      }
    },
    {
      "cell_type": "code",
      "source": [
        "own_credit_card = False\n",
        "own_debit_card = False\n",
        "\n",
        "if own_credit_card or own_debit_card:\n",
        "    print(\"proceed further for payment\")\n",
        "else:\n",
        "    print(\"Ask from a dad for debit or credit card?\")\n",
        "    print(\"cash on delivery?\")"
      ],
      "metadata": {
        "colab": {
          "base_uri": "https://localhost:8080/"
        },
        "id": "D2fJU4AY7czD",
        "outputId": "da546a5c-e71e-47fd-b37b-b9fb332a5249"
      },
      "execution_count": 1,
      "outputs": [
        {
          "output_type": "stream",
          "name": "stdout",
          "text": [
            "Ask from a dad for debit or credit card?\n",
            "cash on delivery?\n"
          ]
        }
      ]
    },
    {
      "cell_type": "code",
      "source": [
        "own_credit_card=True\n",
        "own_debit_card=False\n",
        "\n",
        "if own_credit_card or own_debit_card:\n",
        "  print(\"procees further for payment\")\n",
        "\n",
        "else:\n",
        "  print(\"Ask from dad for debit or credit card?\")\n",
        "  print(\"cash on delivery\")\n"
      ],
      "metadata": {
        "colab": {
          "base_uri": "https://localhost:8080/"
        },
        "id": "CB-ogW0k9IpD",
        "outputId": "c8bf4458-3962-43f5-86f8-eab152419fcb"
      },
      "execution_count": 2,
      "outputs": [
        {
          "output_type": "stream",
          "name": "stdout",
          "text": [
            "procees further for payment\n"
          ]
        }
      ]
    },
    {
      "cell_type": "code",
      "source": [
        "own_credit_card=True\n",
        "own_debit_card=False\n",
        "net_banking=True\n",
        "\n",
        "if own_credit_card or own_debit_card or Net_banking:\n",
        "    print(\"proceed further for payment\")\n",
        "else:\n",
        "    print(\"Ask from a dad for debit or credit card?\")\n",
        "    print(\"cash on delivery?\")\n"
      ],
      "metadata": {
        "colab": {
          "base_uri": "https://localhost:8080/"
        },
        "id": "ZNqeoVxS9pfQ",
        "outputId": "38ac321d-2b79-4e6c-c6fe-becbc699b990"
      },
      "execution_count": 3,
      "outputs": [
        {
          "output_type": "stream",
          "name": "stdout",
          "text": [
            "proceed further for payment\n"
          ]
        }
      ]
    },
    {
      "cell_type": "markdown",
      "source": [
        "# AND OR together\n",
        "\n",
        "attendance | assignment | sports_player | eligible_for_exam\n",
        "- | - | - | -\n",
        ">=75% | >=70% | False | True\n",
        ">=75% | >=70% | True | True"
      ],
      "metadata": {
        "id": "y1fsH-kC_EQ6"
      }
    },
    {
      "cell_type": "code",
      "source": [
        "attendance=70\n",
        "assignment=40\n",
        "sports_player=True\n",
        "\n",
        "\n",
        "print(f\"attendance criteria met?:{attendance>=75}\")\n",
        "print(f\"assignment criteria met? {assignment>=70}\")\n",
        "print(f\"sports criteria met? {sports_player}\")\n",
        "\n",
        "if attendance>=75 and assignment >=70:\n",
        "  if sports_player:\n",
        "    print(\"The student is eligible toappear in final exam\")\n",
        "  else:\n",
        "    print(\"The student is eligible to appear in final exam\")\n",
        "else:\n",
        "  print(\"The student is not eligible\")"
      ],
      "metadata": {
        "colab": {
          "base_uri": "https://localhost:8080/"
        },
        "id": "ymbjgrjI_YaL",
        "outputId": "0e6adce9-44b1-45f0-890b-8e440dbc29a0"
      },
      "execution_count": 4,
      "outputs": [
        {
          "output_type": "stream",
          "name": "stdout",
          "text": [
            "attendance criteria met?:False\n",
            "assignment criteria met? False\n",
            "sports criteria met? True\n",
            "The student is not eligible\n"
          ]
        }
      ]
    },
    {
      "cell_type": "markdown",
      "source": [
        "if attendence is more than 75% and assignment completed more than 70% OR the student is sports player then only the student is eligible for exam\n",
        "\n",
        "if you are sports player then you will get grace marks = +10"
      ],
      "metadata": {
        "id": "sJtodR1WCJvG"
      }
    },
    {
      "cell_type": "code",
      "source": [
        "# complex conditional casses as mentioned above -\n",
        "attendance = 90 # mendatory\n",
        "assignment_submitted = 80 # mendatory\n",
        "sports_player = False # not mendatory\n",
        "\n",
        "print(f\"attendence criteria met? : {attendance >= 75}\")\n",
        "print(f\"assignment criteria met? : {assignment_submitted >= 70}\")\n",
        "print(f\"sports criteria met? : {sports_player}\")\n",
        "\n",
        "if attendance >= 75 and assignment_submitted >= 70:\n",
        "    if sports_player:\n",
        "        print(\"The student is can get grace marks = +10\")\n",
        "    else:\n",
        "        print(\"The student is eligible to appear in final exam but not extra grace marks\")\n",
        "else:\n",
        "    print(\"The student is not eligible\")"
      ],
      "metadata": {
        "colab": {
          "base_uri": "https://localhost:8080/"
        },
        "id": "s8NgFr30COGm",
        "outputId": "95b0531e-74cd-4265-d99e-a1a2604c3f18"
      },
      "execution_count": 10,
      "outputs": [
        {
          "output_type": "stream",
          "name": "stdout",
          "text": [
            "attendence criteria met? : True\n",
            "assignment criteria met? : True\n",
            "sports criteria met? : False\n",
            "The student is eligible to appear in final exam but not extra grace marks\n"
          ]
        }
      ]
    },
    {
      "cell_type": "markdown",
      "source": [
        "## Equality Operators"
      ],
      "metadata": {
        "id": "RtW6raoHDeDb"
      }
    },
    {
      "cell_type": "markdown",
      "source": [
        "Operator | uses | Meaning\n",
        "- | - | -\n",
        "is | A is B=> | return True if A and B points to the same object   \n",
        "is not | A is not B | returns True if A and B do not points to the same object\n",
        "== | A == B | A is equal to B\n",
        "!= | A != B | A is not equal to B\n",
        "\n",
        "When using `is` then we are also comparing memory location\n",
        "When using `is not` then we are also comparing memory location\n",
        "\n",
        "== and != is only checking value of the variables [Used more offently or frequently]"
      ],
      "metadata": {
        "id": "BZMAD2tdDkwM"
      }
    },
    {
      "cell_type": "code",
      "source": [
        "a=1\n",
        "b=1\n",
        "\n",
        "if a is b:\n",
        "  print(\"a and b are same\")\n",
        "else:\n",
        "  print(\"a anb are not same\")"
      ],
      "metadata": {
        "colab": {
          "base_uri": "https://localhost:8080/"
        },
        "id": "UAp_GWrlDm5d",
        "outputId": "abebac9d-8a58-4b36-81eb-4ec3d75c407a"
      },
      "execution_count": 12,
      "outputs": [
        {
          "output_type": "stream",
          "name": "stdout",
          "text": [
            "a and b are same\n"
          ]
        }
      ]
    },
    {
      "cell_type": "code",
      "source": [
        "a=1\n",
        "b=1\n",
        "if a is not b:\n",
        "  print(\"a and b are not same\")\n",
        "else:\n",
        "  print(\"a and b are same\")"
      ],
      "metadata": {
        "colab": {
          "base_uri": "https://localhost:8080/"
        },
        "id": "wusJ9X01GRM-",
        "outputId": "e615e8ce-efab-4b0b-cfc8-c7700467978b"
      },
      "execution_count": 13,
      "outputs": [
        {
          "output_type": "stream",
          "name": "stdout",
          "text": [
            "a and b are same\n"
          ]
        }
      ]
    },
    {
      "cell_type": "code",
      "source": [
        "id(a)\n"
      ],
      "metadata": {
        "colab": {
          "base_uri": "https://localhost:8080/"
        },
        "id": "L4zz2tIRHqK_",
        "outputId": "1aa9b49d-cbd0-473a-b545-05b99c726f06"
      },
      "execution_count": 17,
      "outputs": [
        {
          "output_type": "execute_result",
          "data": {
            "text/plain": [
              "11527616"
            ]
          },
          "metadata": {},
          "execution_count": 17
        }
      ]
    },
    {
      "cell_type": "code",
      "source": [
        "id(b)"
      ],
      "metadata": {
        "colab": {
          "base_uri": "https://localhost:8080/"
        },
        "id": "ziVJ50RKHwcR",
        "outputId": "89a17d39-7685-4d8e-b79f-c83f706d804d"
      },
      "execution_count": 18,
      "outputs": [
        {
          "output_type": "execute_result",
          "data": {
            "text/plain": [
              "11527616"
            ]
          },
          "metadata": {},
          "execution_count": 18
        }
      ]
    },
    {
      "cell_type": "code",
      "source": [
        "a=1\n",
        "b=1\n",
        "\n",
        "a is b"
      ],
      "metadata": {
        "colab": {
          "base_uri": "https://localhost:8080/"
        },
        "id": "glNvgWYBGp4a",
        "outputId": "c981e814-7c83-413b-8531-0b5cce4766d1"
      },
      "execution_count": 15,
      "outputs": [
        {
          "output_type": "execute_result",
          "data": {
            "text/plain": [
              "True"
            ]
          },
          "metadata": {},
          "execution_count": 15
        }
      ]
    },
    {
      "cell_type": "code",
      "source": [
        "a=[\"Dhruvi\",\"Akash\"]\n",
        "b=[\"Dhruvi\",\"Akash\"]\n",
        "\n",
        "a is b"
      ],
      "metadata": {
        "colab": {
          "base_uri": "https://localhost:8080/"
        },
        "id": "CQ_j0eWbHd27",
        "outputId": "d3f805e7-c53e-4015-8b67-372a21256c1f"
      },
      "execution_count": 20,
      "outputs": [
        {
          "output_type": "execute_result",
          "data": {
            "text/plain": [
              "False"
            ]
          },
          "metadata": {},
          "execution_count": 20
        }
      ]
    },
    {
      "cell_type": "code",
      "source": [
        "A=int(input(\"enter a value:\"))\n",
        "B=int(input(\"enter a value:\"))\n",
        "A is B"
      ],
      "metadata": {
        "colab": {
          "base_uri": "https://localhost:8080/"
        },
        "id": "BozXZYTnIVAS",
        "outputId": "9a7f0f14-0087-401d-e02b-afaee476bdfc"
      },
      "execution_count": 1,
      "outputs": [
        {
          "name": "stdout",
          "output_type": "stream",
          "text": [
            "enter a value:2\n",
            "enter a value:2\n"
          ]
        },
        {
          "output_type": "execute_result",
          "data": {
            "text/plain": [
              "True"
            ]
          },
          "metadata": {},
          "execution_count": 1
        }
      ]
    },
    {
      "cell_type": "code",
      "source": [
        "name = input(\"enter your name: \")\n",
        "if name == \"Dhuvi\":\n",
        "  print(\"She is a student\")\n",
        "else:\n",
        "  print(\"she is an instructor\")\n"
      ],
      "metadata": {
        "colab": {
          "base_uri": "https://localhost:8080/"
        },
        "id": "ZlSq3entS3kj",
        "outputId": "000dac0b-1b74-4e95-cd22-418a989cff9c"
      },
      "execution_count": 10,
      "outputs": [
        {
          "output_type": "stream",
          "name": "stdout",
          "text": [
            "enter your name: Dhruvi\n",
            "she is an instructor\n"
          ]
        }
      ]
    },
    {
      "cell_type": "markdown",
      "source": [
        "### Comparision\n",
        "\n",
        "Operation | Meaning\n",
        "- | -\n",
        "< | A < B \n",
        "<= | A <= B\n",
        "> | A > B \n",
        ">= | A >= B"
      ],
      "metadata": {
        "id": "DJTF4CBSWjZB"
      }
    },
    {
      "cell_type": "code",
      "source": [
        "attendance = 75\n",
        "assignment_submitted = 70\n",
        "\n",
        "print(f\"attendence criteria met? : {attendance >= 75}\")\n",
        "print(f\"assignment criteria met? : {assignment_submitted >= 70}\")\n",
        "\n",
        "if attendance >= 75 and assignment_submitted >= 70:\n",
        "    print(\"The student is eligible to appear in final exam\")\n",
        "else:\n",
        "    print(\"The student is not eligible\")"
      ],
      "metadata": {
        "colab": {
          "base_uri": "https://localhost:8080/"
        },
        "id": "y7MrkICbWl4H",
        "outputId": "64471ce7-9446-42ed-c631-a93e6cd5a9b2"
      },
      "execution_count": 11,
      "outputs": [
        {
          "output_type": "stream",
          "name": "stdout",
          "text": [
            "attendence criteria met? : True\n",
            "assignment criteria met? : True\n",
            "The student is eligible to appear in final exam\n"
          ]
        }
      ]
    },
    {
      "cell_type": "code",
      "source": [],
      "metadata": {
        "id": "TtDeyEeaX7bR"
      },
      "execution_count": null,
      "outputs": []
    }
  ]
}