{
  "nbformat": 4,
  "nbformat_minor": 0,
  "metadata": {
    "colab": {
      "provenance": []
    },
    "kernelspec": {
      "name": "python3",
      "display_name": "Python 3"
    },
    "language_info": {
      "name": "python"
    }
  },
  "cells": [
    {
      "cell_type": "markdown",
      "source": [
        "# For loop\n",
        "###List = [ ], tuples = ( ), set, dict = { } , accessing or slicing the elements = [ ], function = ( )"
      ],
      "metadata": {
        "id": "H8ySrCHgwAvA"
      }
    },
    {
      "cell_type": "code",
      "source": [
        "l=[1,2,3,4,5]\n",
        "for i in l:\n",
        "  print(i)"
      ],
      "metadata": {
        "colab": {
          "base_uri": "https://localhost:8080/"
        },
        "id": "fexbdsvEwDiv",
        "outputId": "4abb0124-e71d-4baf-ca00-37a5a41cb4a8"
      },
      "execution_count": 2,
      "outputs": [
        {
          "output_type": "stream",
          "name": "stdout",
          "text": [
            "1\n",
            "2\n",
            "3\n",
            "4\n",
            "5\n"
          ]
        }
      ]
    },
    {
      "cell_type": "code",
      "source": [
        "for i in \"Dhruvi\":\n",
        "  print(i)"
      ],
      "metadata": {
        "colab": {
          "base_uri": "https://localhost:8080/"
        },
        "id": "3X7BNZ_GwokE",
        "outputId": "5df16f46-51ae-4f01-839e-5aac13ec3cab"
      },
      "execution_count": 3,
      "outputs": [
        {
          "output_type": "stream",
          "name": "stdout",
          "text": [
            "D\n",
            "h\n",
            "r\n",
            "u\n",
            "v\n",
            "i\n"
          ]
        }
      ]
    },
    {
      "cell_type": "code",
      "source": [
        "t=(1,2,3,4)"
      ],
      "metadata": {
        "id": "68ClRv7eyeZt"
      },
      "execution_count": 4,
      "outputs": []
    },
    {
      "cell_type": "code",
      "source": [
        "l=[1,2,3.4,\"Dhruvi\", 1.5j]"
      ],
      "metadata": {
        "id": "kJthLt6RyuSS"
      },
      "execution_count": 5,
      "outputs": []
    },
    {
      "cell_type": "code",
      "source": [
        "type(l)"
      ],
      "metadata": {
        "colab": {
          "base_uri": "https://localhost:8080/"
        },
        "id": "3u9I1zNQzB2D",
        "outputId": "6cf177e6-c48b-48c9-f5bc-519ec04c5b72"
      },
      "execution_count": 6,
      "outputs": [
        {
          "output_type": "execute_result",
          "data": {
            "text/plain": [
              "list"
            ]
          },
          "metadata": {},
          "execution_count": 6
        }
      ]
    },
    {
      "cell_type": "code",
      "source": [
        "for i in l:\n",
        "  print(type(i))"
      ],
      "metadata": {
        "colab": {
          "base_uri": "https://localhost:8080/"
        },
        "id": "EaORKYCNzFlJ",
        "outputId": "3b3f45c8-6c0f-4a5b-abb3-be6638f67552"
      },
      "execution_count": 7,
      "outputs": [
        {
          "output_type": "stream",
          "name": "stdout",
          "text": [
            "<class 'int'>\n",
            "<class 'int'>\n",
            "<class 'float'>\n",
            "<class 'str'>\n",
            "<class 'complex'>\n"
          ]
        }
      ]
    },
    {
      "cell_type": "code",
      "source": [
        "for i in l:\n",
        "  print(type(i), \"type of\",i)"
      ],
      "metadata": {
        "colab": {
          "base_uri": "https://localhost:8080/"
        },
        "id": "yGNB82H5zb5V",
        "outputId": "1219bf0e-f97b-45a6-ecbd-977c29588cc0"
      },
      "execution_count": 8,
      "outputs": [
        {
          "output_type": "stream",
          "name": "stdout",
          "text": [
            "<class 'int'> type of 1\n",
            "<class 'int'> type of 2\n",
            "<class 'float'> type of 3.4\n",
            "<class 'str'> type of Dhruvi\n",
            "<class 'complex'> type of 1.5j\n"
          ]
        }
      ]
    },
    {
      "cell_type": "code",
      "source": [
        "l=[1,2,3,4,5,6]\n",
        "for i in l:\n",
        "  print(i+2)"
      ],
      "metadata": {
        "colab": {
          "base_uri": "https://localhost:8080/"
        },
        "id": "yh3YxQMrzxcL",
        "outputId": "b29cd46a-7b18-409b-b280-712462f37807"
      },
      "execution_count": 9,
      "outputs": [
        {
          "output_type": "stream",
          "name": "stdout",
          "text": [
            "3\n",
            "4\n",
            "5\n",
            "6\n",
            "7\n",
            "8\n"
          ]
        }
      ]
    },
    {
      "cell_type": "code",
      "source": [
        "l=[1,2,3,4,5,6]\n",
        "l1=[]\n",
        "for i in l:\n",
        "  print(i+2)\n",
        "  l1.append(i+2)"
      ],
      "metadata": {
        "colab": {
          "base_uri": "https://localhost:8080/"
        },
        "id": "DjhL6doN0IMi",
        "outputId": "bf752724-1a81-4f22-e89f-95a8ca519c97"
      },
      "execution_count": 10,
      "outputs": [
        {
          "output_type": "stream",
          "name": "stdout",
          "text": [
            "3\n",
            "4\n",
            "5\n",
            "6\n",
            "7\n",
            "8\n"
          ]
        }
      ]
    },
    {
      "cell_type": "code",
      "source": [
        "l1"
      ],
      "metadata": {
        "colab": {
          "base_uri": "https://localhost:8080/"
        },
        "id": "tj_5aD2f1A5M",
        "outputId": "5f6d9d00-82dd-4eec-d599-7b0e1c835286"
      },
      "execution_count": 11,
      "outputs": [
        {
          "output_type": "execute_result",
          "data": {
            "text/plain": [
              "[3, 4, 5, 6, 7, 8]"
            ]
          },
          "metadata": {},
          "execution_count": 11
        }
      ]
    },
    {
      "cell_type": "code",
      "source": [
        "l2=[4,5,9.6,\"Akash\",4+5j,[42,3,65]]"
      ],
      "metadata": {
        "id": "RnRw4X891Fl0"
      },
      "execution_count": 12,
      "outputs": []
    },
    {
      "cell_type": "code",
      "source": [
        "for i in l2:\n",
        "  if type(i)==int:\n",
        "    print(i)\n",
        " "
      ],
      "metadata": {
        "colab": {
          "base_uri": "https://localhost:8080/"
        },
        "id": "n3VPiUBR1RP1",
        "outputId": "59f8f5d9-c1d9-4f0c-e320-d9629181ea66"
      },
      "execution_count": 13,
      "outputs": [
        {
          "output_type": "stream",
          "name": "stdout",
          "text": [
            "4\n",
            "5\n"
          ]
        }
      ]
    },
    {
      "cell_type": "code",
      "source": [
        "for i in l2:\n",
        "  if type(i)==int:\n",
        "    print(i)\n",
        "  elif type(i)==list:\n",
        "    for j in i:\n",
        "      if type(j)==int:\n",
        "        print(j)"
      ],
      "metadata": {
        "colab": {
          "base_uri": "https://localhost:8080/"
        },
        "id": "v4gzKSla1lAf",
        "outputId": "8065653e-443f-4c6d-c8c8-0bf69f5805ea"
      },
      "execution_count": 14,
      "outputs": [
        {
          "output_type": "stream",
          "name": "stdout",
          "text": [
            "4\n",
            "5\n",
            "42\n",
            "3\n",
            "65\n"
          ]
        }
      ]
    },
    {
      "cell_type": "code",
      "source": [
        "l = [2,45,78,12,12,12,12,\"sudh\" , 6+7j,[56,67,78,\"dsfdsf\"]]\n",
        "#q1 . try to print index of all the element \n",
        "#q2 . Try to extract all the list of char if element is string \n",
        "#q3 . Try to return a list after doing a square of all the int element "
      ],
      "metadata": {
        "id": "qzzWaX_G3701"
      },
      "execution_count": 15,
      "outputs": []
    },
    {
      "cell_type": "code",
      "source": [
        "#List = [], tuples = (), set, dict = {} , accessing or slicing the elements = [], function = ()\n",
        "\n",
        "#q1 . try to print index of all the element \n",
        "for i in range(len(l)):\n",
        "  print(\"index\", i,\"for an element\",l[i])\n",
        "\n",
        "#another method\n",
        "## enumerate returns indexing aswell as individual element\n",
        "for i,j  in enumerate(l):\n",
        "    print(i ,j)"
      ],
      "metadata": {
        "colab": {
          "base_uri": "https://localhost:8080/"
        },
        "id": "Rm3p-BQ85esI",
        "outputId": "73c24fec-2a1d-4c97-cf27-9d60943875c7"
      },
      "execution_count": 21,
      "outputs": [
        {
          "output_type": "stream",
          "name": "stdout",
          "text": [
            "index 0 for an element 2\n",
            "index 1 for an element 45\n",
            "index 2 for an element 78\n",
            "index 3 for an element 12\n",
            "index 4 for an element 12\n",
            "index 5 for an element 12\n",
            "index 6 for an element 12\n",
            "index 7 for an element sudh\n",
            "index 8 for an element (6+7j)\n",
            "index 9 for an element [56, 67, 78, 'dsfdsf']\n",
            "0 2\n",
            "1 45\n",
            "2 78\n",
            "3 12\n",
            "4 12\n",
            "5 12\n",
            "6 12\n",
            "7 sudh\n",
            "8 (6+7j)\n",
            "9 [56, 67, 78, 'dsfdsf']\n"
          ]
        }
      ]
    },
    {
      "cell_type": "code",
      "source": [
        "## enumerate returns indexing aswell as individual element\n",
        "\n",
        "for i in enumerate(l):\n",
        "  print(i)"
      ],
      "metadata": {
        "colab": {
          "base_uri": "https://localhost:8080/"
        },
        "id": "HxX4B1MmwkV2",
        "outputId": "910941b1-a4ea-432b-962e-0d50c99cb052"
      },
      "execution_count": 17,
      "outputs": [
        {
          "output_type": "stream",
          "name": "stdout",
          "text": [
            "(0, 2)\n",
            "(1, 45)\n",
            "(2, 78)\n",
            "(3, 12)\n",
            "(4, 12)\n",
            "(5, 12)\n",
            "(6, 12)\n",
            "(7, 'sudh')\n",
            "(8, (6+7j))\n",
            "(9, [56, 67, 78, 'dsfdsf'])\n"
          ]
        }
      ]
    },
    {
      "cell_type": "code",
      "source": [
        "#q2 . Try to extract all the list of char if element is string \n",
        "l = [2,45,78,12,12,12,12,\"sudh\" , 6+7j,[56,67,78,\"dsfdsf\"]]\n",
        "\n",
        "for i in l :\n",
        "    if type(i) == str :\n",
        "        l1 = []\n",
        "        for j in i :\n",
        "            l1.append(j)\n",
        "        print(l1)\n",
        "      \n",
        "\n",
        "for i in l:\n",
        "  if type(i)==str:\n",
        "    print(i)\n",
        "  elif type(i)==list:\n",
        "    for j in i:\n",
        "      if type(j)==str: \n",
        "        print(j)"
      ],
      "metadata": {
        "colab": {
          "base_uri": "https://localhost:8080/"
        },
        "id": "N7x4yHqf5nR3",
        "outputId": "e1b0eab2-c6ab-4046-9914-35a646ec5441"
      },
      "execution_count": 19,
      "outputs": [
        {
          "output_type": "stream",
          "name": "stdout",
          "text": [
            "['s', 'u', 'd', 'h']\n",
            "sudh\n",
            "dsfdsf\n"
          ]
        }
      ]
    },
    {
      "cell_type": "code",
      "source": [
        "#q3 . Try to return a list after doing a square of all the int element \n",
        "l = [2,45,78,12,12,12,12,\"sudh\" , 6+7j,[56,67,78,\"dsfdsf\"]]\n",
        "for i in l:\n",
        "  if type(i)==int:\n",
        "    print(i*i)\n",
        "  elif type(i)==list:\n",
        "    for k in i:\n",
        "      if type(k)==int:\n",
        "        print(k*k)\n",
        "\n",
        "# Sudhanshu Sir's method\n",
        "l = [2,45,78,12,\"sudh\", 6+7j,[56,67,78,\"shdhi\"]]\n",
        "l2=[]\n",
        "for i in l :\n",
        "    if type(i) == int:\n",
        "        l2.append(i**2)\n",
        "\n",
        "l2"
      ],
      "metadata": {
        "colab": {
          "base_uri": "https://localhost:8080/"
        },
        "id": "Cmu2wh1d6dw3",
        "outputId": "582d515a-ab21-48c9-838e-9db160fe067d"
      },
      "execution_count": 22,
      "outputs": [
        {
          "output_type": "stream",
          "name": "stdout",
          "text": [
            "4\n",
            "2025\n",
            "6084\n",
            "144\n",
            "144\n",
            "144\n",
            "144\n",
            "3136\n",
            "4489\n",
            "6084\n"
          ]
        },
        {
          "output_type": "execute_result",
          "data": {
            "text/plain": [
              "[4, 2025, 6084, 144]"
            ]
          },
          "metadata": {},
          "execution_count": 22
        }
      ]
    },
    {
      "cell_type": "code",
      "source": [
        "l=[\"Dhruvi\",\"Akash\",\"Saanvi\",\"Golu\"]\n",
        "for i in l:\n",
        "  print(i+\"pandit\")\n"
      ],
      "metadata": {
        "colab": {
          "base_uri": "https://localhost:8080/"
        },
        "id": "_5oikwQpw5W6",
        "outputId": "7047bd60-8f51-4da2-c6ed-9d367e972c9c"
      },
      "execution_count": 8,
      "outputs": [
        {
          "output_type": "stream",
          "name": "stdout",
          "text": [
            "Dhruvipandit\n",
            "Akashpandit\n",
            "Saanvipandit\n",
            "Golupandit\n"
          ]
        }
      ]
    },
    {
      "cell_type": "code",
      "source": [
        "s=\"ineuron\"\n",
        "for i in s:\n",
        " print(i)"
      ],
      "metadata": {
        "colab": {
          "base_uri": "https://localhost:8080/"
        },
        "id": "qXyomwcG2HbS",
        "outputId": "120bceb7-52c0-4d52-9f02-a38d434ca04b"
      },
      "execution_count": 12,
      "outputs": [
        {
          "output_type": "stream",
          "name": "stdout",
          "text": [
            "i\n",
            "n\n",
            "e\n",
            "u\n",
            "r\n",
            "o\n",
            "n\n"
          ]
        }
      ]
    },
    {
      "cell_type": "markdown",
      "source": [
        "# For Else"
      ],
      "metadata": {
        "id": "PmTsVyCv-Mpd"
      }
    },
    {
      "cell_type": "code",
      "source": [
        "l=[\"Dhruvi\",\"Akash\",\"Saanvi\",\"Golu\"]\n",
        "for i in l:\n",
        "  print(i+\"pandit\")\n"
      ],
      "metadata": {
        "id": "c-5i31Wt9HPD"
      },
      "execution_count": null,
      "outputs": []
    }
  ]
}